{
 "cells": [
  {
   "cell_type": "markdown",
   "metadata": {},
   "source": [
    "A regular expression, is a pattern of characters that are used to find matches in a larger string or text.\n",
    "The pattern describes what a string that matches should look like.\n",
    "\n",
    "For example, if we have the following text, “the gray hound chased the red fox for over a full mile,” we might want to find the color gray in the text. \n",
    "A regex to find the word “gray” in the text would simply be the characters ‘gray’."
   ]
  },
  {
   "cell_type": "code",
   "execution_count": 4,
   "metadata": {},
   "outputs": [
    {
     "name": "stdout",
     "output_type": "stream",
     "text": [
      "match\n"
     ]
    }
   ],
   "source": [
    "#One way to do this\n",
    "string=\"the gray hound chased the red fox for over a full mile\"\n",
    "string2match=\"gray\"\n",
    "for x in string.split():\n",
    "    if (x==string2match):\n",
    "        print(\"match\")\n",
    "        "
   ]
  },
  {
   "cell_type": "code",
   "execution_count": 9,
   "metadata": {},
   "outputs": [],
   "source": [
    "#using regex\n",
    "import re\n",
    "pattern = re.compile(\"gray\") #regex constructor\n",
    "string=\"the grey hound chased the red fox for over a full mile\"\n",
    "match = re.search(pattern, string) # this returns either True or None\n",
    "if match:\n",
    "    print(\"match\")\n",
    "else:\n",
    "    print(\"no match\")"
   ]
  },
  {
   "cell_type": "raw",
   "metadata": {},
   "source": [
    "Literal Characters:\n",
    "Regex has a number of characters that have special meaning called metacharacters—we will explore how to use them later in this chapter. The metacharacters are:\n",
    "\n",
    "^ $ . | { } [ ] ( ) * + ? \\"
   ]
  },
  {
   "cell_type": "raw",
   "metadata": {},
   "source": [
    "Square Brackets []\n",
    "We are going to introduce our first metacharacters, the square brackets []. The square brackets are used to provide a list of potential matching characters at a position in the search text. So, to search for 7pm, case-insensitive, we could use the regex pattern 7[Pp][Mm]."
   ]
  },
  {
   "cell_type": "code",
   "execution_count": 12,
   "metadata": {},
   "outputs": [
    {
     "name": "stdout",
     "output_type": "stream",
     "text": [
      "match\n"
     ]
    }
   ],
   "source": [
    "import re\n",
    "string=\"I will go to the meeting  at 7pM\"\n",
    "pattern=re.compile('7[Pp][Mm]')\n",
    "match = re.search(pattern, string) \n",
    "if match:\n",
    "    print(\"match\")\n",
    "else:\n",
    "    print(\"no match\")\n"
   ]
  },
  {
   "cell_type": "code",
   "execution_count": 14,
   "metadata": {},
   "outputs": [
    {
     "name": "stdout",
     "output_type": "stream",
     "text": [
      "no match\n"
     ]
    }
   ],
   "source": [
    "import re\n",
    "# how to capture 1 and 9 a.m. or 1 and 9 p.m. ?\n",
    "string=\"I will go to the office at 6am, wanna join me?\"\n",
    "pattern=re.compile()\n",
    "match = re.search(pattern, string) \n",
    "if match:\n",
    "    print(\"match\")\n",
    "else:\n",
    "    print(\"no match\")\n"
   ]
  },
  {
   "cell_type": "code",
   "execution_count": 16,
   "metadata": {},
   "outputs": [
    {
     "name": "stdout",
     "output_type": "stream",
     "text": [
      "match\n"
     ]
    }
   ],
   "source": [
    "import re\n",
    "# Use a range [ A - Z ]\n",
    "string=\"I will go to the office at 6am, wanna join me?\"\n",
    "pattern=re.compile('[1-9][AaPp][Mm]')\n",
    "match = re.search(pattern, string) \n",
    "if match:\n",
    "    print(\"match\")\n",
    "else:\n",
    "    print(\"no match\")\n"
   ]
  },
  {
   "cell_type": "markdown",
   "metadata": {},
   "source": [
    "Some other characters do not have ASCII equivalents; however, you can use the Unicode value to search for those characters. For example, if we were looking for the Euro symbol €, we could use the regex pattern \\u20AC.\n",
    "In such cases we notate our regex with r\"\", to distinguish it from literal '\\u20AC' string."
   ]
  },
  {
   "cell_type": "code",
   "execution_count": 24,
   "metadata": {},
   "outputs": [
    {
     "name": "stdout",
     "output_type": "stream",
     "text": [
      "match\n"
     ]
    }
   ],
   "source": [
    "import re\n",
    "string=\"I have some €€€ to spend on vodca\"\n",
    "pattern=re.compile(r\"\\u20AC\")\n",
    "match = re.search(pattern, string)\n",
    "if match:\n",
    "    print(\"match\")\n",
    "else:\n",
    "    print(\"no match\")"
   ]
  },
  {
   "cell_type": "code",
   "execution_count": 25,
   "metadata": {},
   "outputs": [
    {
     "name": "stdout",
     "output_type": "stream",
     "text": [
      "match\n"
     ]
    }
   ],
   "source": [
    "import re\n",
    "string=\"I have some $$$ to spend on vodca\"\n",
    "pattern=re.compile(r\"\\u0024\")\n",
    "match = re.search(pattern, string) \n",
    "if match:\n",
    "    print(\"match\")\n",
    "else:\n",
    "    print(\"no match\")"
   ]
  },
  {
   "cell_type": "markdown",
   "metadata": {},
   "source": [
    "Negation ^\n",
    "When you build a character set within the brackets, it is sometimes easier to specify what values you want to exclude. This is what the ^ metacharacter within the square bracket allows you to do."
   ]
  },
  {
   "cell_type": "code",
   "execution_count": 58,
   "metadata": {},
   "outputs": [
    {
     "name": "stdout",
     "output_type": "stream",
     "text": [
      "match\n"
     ]
    }
   ],
   "source": [
    "import re\n",
    "digit=\"32039\"\n",
    "pattern=re.compile(r\"\\d\") #alternative of[0-9]\n",
    "match = re.search(pattern, digit) \n",
    "if match:\n",
    "    print(\"match\")\n",
    "else:\n",
    "    print(\"no match\")"
   ]
  },
  {
   "cell_type": "code",
   "execution_count": 61,
   "metadata": {},
   "outputs": [
    {
     "name": "stdout",
     "output_type": "stream",
     "text": [
      "match\n"
     ]
    }
   ],
   "source": [
    "import re\n",
    "string=\"no digits around here\"\n",
    "pattern=re.compile(\"[^0-9]\") # alternative r\"\\D\"\n",
    "match = re.search(pattern, string) \n",
    "if match:\n",
    "    print(\"match\")\n",
    "else:\n",
    "    print(\"no match\")"
   ]
  },
  {
   "cell_type": "markdown",
   "metadata": {},
   "source": [
    "Alphanumeric (word characters)\n",
    "The \\w metacharacter means to match any word character (any uppercase or lowercase letter, any digit, and the underscore). \n",
    "\n",
    "It is the same as [a-zA-Z0-9_] .\n",
    "\n",
    "The \\W metacharacter negates that, and matches any non-word character (i.e.[^a-zA-Z0-9_] )."
   ]
  },
  {
   "cell_type": "raw",
   "metadata": {},
   "source": [
    "The dot (.)\n",
    "The dot metacharacter matches any single character (with the exception of newline)."
   ]
  },
  {
   "cell_type": "code",
   "execution_count": 140,
   "metadata": {},
   "outputs": [
    {
     "name": "stdout",
     "output_type": "stream",
     "text": [
      "match\n"
     ]
    }
   ],
   "source": [
    "import re\n",
    "pattern = re.compile(\"gr.y\") \n",
    "string1=\"the grey hound chased the red fox for over a full mile\" #American English\n",
    "string2=\"the gray hound chased the red fox for over a full mile\" #British\n",
    "match = re.search(pattern, string1) # this returns either True or None\n",
    "if match:\n",
    "    print(\"match\")\n",
    "else:\n",
    "    print(\"no match\")"
   ]
  },
  {
   "cell_type": "code",
   "execution_count": 69,
   "metadata": {},
   "outputs": [
    {
     "name": "stdout",
     "output_type": "stream",
     "text": [
      "no match\n"
     ]
    }
   ],
   "source": [
    "import re\n",
    "pattern = re.compile(\"[gr].[y]\") \n",
    "string=\"the greedy hound chased the red fox for over a full mile\"\n",
    "match = re.search(pattern, string) # this returns either True or None\n",
    "if match:\n",
    "    print(\"match\")\n",
    "else:\n",
    "    print(\"no match\")"
   ]
  },
  {
   "cell_type": "markdown",
   "metadata": {},
   "source": [
    "Curly brackets {}\n",
    "\n",
    "The curly brackets metacharacters allow you to specify the number of times a particular character set occurs. For a simple example, let’s take our euro regex from the previous chapter and make it a more general purpose currency search.\n",
    "\n",
    "First, we want a symbol, which in this case is the euro, or dollar sign. [\\u20AC\\u00A3$] followed by at least one digit, but no more than five digits, followed by a period, and two digits. \\d{1,5}\\.\\d\\d\n",
    "\n",
    "The {1,5} following the \\d character indicates we need at least one, but no more than five digits after the currency symbol and before the period. Our options with the curly brackets can be:\n",
    "\n",
    " {n} - Preceding character must occur exactly “n” times.\n",
    " {n,} - At least “n” times, but no upper limit.\n",
    " {n,m} - Between “n” and “m” times.\n",
    "\n"
   ]
  },
  {
   "cell_type": "code",
   "execution_count": 1,
   "metadata": {},
   "outputs": [
    {
     "name": "stdout",
     "output_type": "stream",
     "text": [
      "match\n"
     ]
    }
   ],
   "source": [
    "import re\n",
    "string=\"I have some €12.80 to spend on vodca\"\n",
    "pattern=re.compile(r\"[\\u20AC\\u0024]\\d{1,5}\\.\\d\\d\")\n",
    "match = re.search(pattern, string)\n",
    "if match:\n",
    "    print(\"match\")\n",
    "else:\n",
    "    print(\"no match\")"
   ]
  },
  {
   "cell_type": "markdown",
   "metadata": {},
   "source": [
    "Quantifier Symbols\n",
    "( * )          Match zero or more times {0,}\n",
    "\n",
    "( + )          Match one or more times  {1,}\n",
    "\n",
    "( ? )          Match zero or one time   {0,1}"
   ]
  },
  {
   "cell_type": "code",
   "execution_count": 104,
   "metadata": {},
   "outputs": [
    {
     "name": "stdout",
     "output_type": "stream",
     "text": [
      "match\n"
     ]
    }
   ],
   "source": [
    "import re\n",
    "string=\"<h1>This is a <strong>header</strong></h1>\"\n",
    "string2=\"<h1>This is a <i>header</i></h1>\"\n",
    "pattern=re.compile(\"<h1>.*<strong>.*</strong>.*</h1>\")\n",
    "match = re.search(pattern, string)\n",
    "if match:\n",
    "    print(\"match\")\n",
    "else:\n",
    "    print(\"no match\")"
   ]
  },
  {
   "cell_type": "markdown",
   "metadata": {},
   "source": [
    "# How to extract the result of a match?"
   ]
  },
  {
   "cell_type": "code",
   "execution_count": 133,
   "metadata": {},
   "outputs": [
    {
     "name": "stdout",
     "output_type": "stream",
     "text": [
      "['5$', '20$']\n"
     ]
    }
   ],
   "source": [
    "# EXTRACTING THE RESULTS\n",
    "import re\n",
    "string=\"my tshirt cost 5$, my jacket was 20$ and I am 6 years old \"\n",
    "\n",
    "pattern=re.compile(\"\\d*[\\u0024]\")\n",
    "result=re.findall(pattern,string)\n",
    "print(result)"
   ]
  },
  {
   "cell_type": "markdown",
   "metadata": {},
   "source": [
    "# How to remove noisy words?"
   ]
  },
  {
   "cell_type": "code",
   "execution_count": 159,
   "metadata": {},
   "outputs": [
    {
     "name": "stdout",
     "output_type": "stream",
     "text": [
      "Mah god, pizza is not for breakfast \n"
     ]
    }
   ],
   "source": [
    "import re\n",
    "tweet=\"Mah god, pizza is not for breakfast #are_U_Seriously#lmfao\"\n",
    "pattern=re.compile(\"(#\\w*)\")\n",
    "result=re.sub(pattern,'',tweet)\n",
    "print(result)\n"
   ]
  },
  {
   "cell_type": "markdown",
   "metadata": {},
   "source": [
    "# How to modify your data?"
   ]
  },
  {
   "cell_type": "code",
   "execution_count": 163,
   "metadata": {},
   "outputs": [
    {
     "name": "stdout",
     "output_type": "stream",
     "text": [
      "Mah god, pizza is not for breakfast hashtag hashtag reference \n"
     ]
    }
   ],
   "source": [
    "import re\n",
    "tweet=\"Mah god, pizza is not for breakfast #are_U_Seriously#lmfao@little_cousin\"\n",
    "pattern=re.compile(\"(#\\w*)\")\n",
    "result=re.sub(pattern,'hashtag ',tweet)\n",
    "pattern=re.compile(\"(@\\w*)\")\n",
    "result=re.sub(pattern,'reference ',result)\n",
    "print(result)\n"
   ]
  },
  {
   "cell_type": "markdown",
   "metadata": {},
   "source": [
    "# combine regex together"
   ]
  },
  {
   "cell_type": "code",
   "execution_count": 168,
   "metadata": {},
   "outputs": [
    {
     "name": "stdout",
     "output_type": "stream",
     "text": [
      "Mah god, pizza is not for breakfast \n"
     ]
    }
   ],
   "source": [
    "#combine regex together\n",
    "import re\n",
    "tweet=\"Mah god, pizza is not for breakfast #are_U_Seriously#lmfao@little_cousin\"\n",
    "pattern=re.compile(\"((#\\w*)|(@\\w*))\")\n",
    "result=re.sub(pattern,'',tweet)\n",
    "\n",
    "print(result)\n"
   ]
  },
  {
   "cell_type": "raw",
   "metadata": {},
   "source": [
    "References\n",
    "https://docs.python.org/3/library/re.html\n",
    "https://docs.python.org/2/library/re.html\n",
    "\n",
    "Regular Expressions Succinctly by Joe Booth\n",
    "https://www.syncfusion.com/ebooks/regularexpressions/using-regular-expressions-in-net"
   ]
  }
 ],
 "metadata": {
  "kernelspec": {
   "display_name": "Python 3",
   "language": "python",
   "name": "python3"
  },
  "language_info": {
   "codemirror_mode": {
    "name": "ipython",
    "version": 3
   },
   "file_extension": ".py",
   "mimetype": "text/x-python",
   "name": "python",
   "nbconvert_exporter": "python",
   "pygments_lexer": "ipython3",
   "version": "3.7.0"
  }
 },
 "nbformat": 4,
 "nbformat_minor": 2
}
